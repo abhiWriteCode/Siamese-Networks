{
  "nbformat": 4,
  "nbformat_minor": 0,
  "metadata": {
    "colab": {
      "name": "Siamese_Networks.ipynb",
      "version": "0.3.2",
      "provenance": [],
      "collapsed_sections": [
        "yhdd6xcsLL0v"
      ],
      "toc_visible": true
    },
    "kernelspec": {
      "name": "python3",
      "display_name": "Python 3"
    },
    "accelerator": "GPU"
  },
  "cells": [
    {
      "metadata": {
        "id": "q2zTEYlKlVwQ",
        "colab_type": "code",
        "colab": {}
      },
      "cell_type": "code",
      "source": [
        "from google.colab import drive\n",
        "drive.mount('/content/drive')"
      ],
      "execution_count": 0,
      "outputs": []
    },
    {
      "metadata": {
        "id": "BRJ6Bca5lorL",
        "colab_type": "code",
        "colab": {}
      },
      "cell_type": "code",
      "source": [
        "!cp drive/My\\ Drive/images_*.zip .\n",
        "\n",
        "!python -m zipfile -e images_background.zip .\n",
        "!python -m zipfile -e images_evaluation.zip .\n",
        "\n",
        "!mkdir save_data\n",
        "!mkdir weights"
      ],
      "execution_count": 0,
      "outputs": []
    },
    {
      "metadata": {
        "id": "LaKyG1_1YsFj",
        "colab_type": "code",
        "colab": {}
      },
      "cell_type": "code",
      "source": [
        "import numpy.random as rng\n",
        "import numpy as np\n",
        "import os\n",
        "import dill as pickle\n",
        "import matplotlib.pyplot as plt\n",
        "from sklearn.utils import shuffle\n",
        "import cv2\n",
        "import time\n",
        "\n",
        "from keras.layers import Input, Conv2D, Lambda, merge, Dense, Flatten, MaxPooling2D, Dropout\n",
        "from keras.models import Model, Sequential\n",
        "from keras.regularizers import l2\n",
        "from keras import backend as K\n",
        "from keras.optimizers import SGD,Adam\n",
        "from keras.losses import binary_crossentropy\n",
        "\n",
        "%matplotlib inline"
      ],
      "execution_count": 0,
      "outputs": []
    },
    {
      "metadata": {
        "id": "SuV5Xy2keeYu",
        "colab_type": "code",
        "colab": {}
      },
      "cell_type": "code",
      "source": [
        "def loadimgs(path, n=0):\n",
        "    '''\n",
        "    path => Path of train directory or test directory\n",
        "    '''\n",
        "    X=[]\n",
        "    y = []\n",
        "    cat_dict = {}\n",
        "    lang_dict = {}\n",
        "    curr_y = n\n",
        "    \n",
        "    # we load every alphabet seperately so we can isolate them later\n",
        "    for alphabet in os.listdir(path):\n",
        "        print(\"loading alphabet: \" + alphabet)\n",
        "        lang_dict[alphabet] = [curr_y,None]\n",
        "        alphabet_path = os.path.join(path,alphabet)\n",
        "        \n",
        "        # every letter/category has it's own column in the array, so  load seperately\n",
        "        for letter in os.listdir(alphabet_path):\n",
        "            cat_dict[curr_y] = (alphabet, letter)\n",
        "            category_images=[]\n",
        "            letter_path = os.path.join(alphabet_path, letter)\n",
        "            \n",
        "            # read all the images in the current category\n",
        "            for filename in os.listdir(letter_path):\n",
        "                image_path = os.path.join(letter_path, filename)\n",
        "                image = cv2.imread(image_path, cv2.IMREAD_GRAYSCALE)\n",
        "                category_images.append(image)\n",
        "                y.append(curr_y)\n",
        "            try:\n",
        "                X.append(np.stack(category_images))\n",
        "            # edge case  - last one\n",
        "            except ValueError as e:\n",
        "                print(e)\n",
        "                print(\"error - category_images:\", category_images)\n",
        "            curr_y += 1\n",
        "            lang_dict[alphabet][1] = curr_y - 1\n",
        "            \n",
        "    y = np.vstack(y)\n",
        "    X = np.stack(X)\n",
        "    return X, y, lang_dict"
      ],
      "execution_count": 0,
      "outputs": []
    },
    {
      "metadata": {
        "id": "Dh6kQBsTmdY8",
        "colab_type": "code",
        "colab": {}
      },
      "cell_type": "code",
      "source": [
        "train_folder = 'images_background'\n",
        "valid_folder = 'images_evaluation'\n",
        "save_path = 'save_data'\n",
        "model_path = 'weights'"
      ],
      "execution_count": 0,
      "outputs": []
    },
    {
      "metadata": {
        "id": "WBCjx4Dve22H",
        "colab_type": "code",
        "outputId": "eb9f896c-c4a2-4797-dc33-460a37941eb2",
        "colab": {
          "base_uri": "https://localhost:8080/",
          "height": 535
        }
      },
      "cell_type": "code",
      "source": [
        "X, y, c = loadimgs(train_folder)\n",
        "X.shape, y.shape"
      ],
      "execution_count": 6,
      "outputs": [
        {
          "output_type": "stream",
          "text": [
            "loading alphabet: Malay_(Jawi_-_Arabic)\n",
            "loading alphabet: Sanskrit\n",
            "loading alphabet: Syriac_(Estrangelo)\n",
            "loading alphabet: Japanese_(katakana)\n",
            "loading alphabet: Bengali\n",
            "loading alphabet: Burmese_(Myanmar)\n",
            "loading alphabet: Inuktitut_(Canadian_Aboriginal_Syllabics)\n",
            "loading alphabet: Balinese\n",
            "loading alphabet: Blackfoot_(Canadian_Aboriginal_Syllabics)\n",
            "loading alphabet: Tagalog\n",
            "loading alphabet: Tifinagh\n",
            "loading alphabet: Hebrew\n",
            "loading alphabet: Grantha\n",
            "loading alphabet: Futurama\n",
            "loading alphabet: Armenian\n",
            "loading alphabet: Greek\n",
            "loading alphabet: N_Ko\n",
            "loading alphabet: Anglo-Saxon_Futhorc\n",
            "loading alphabet: Cyrillic\n",
            "loading alphabet: Korean\n",
            "loading alphabet: Early_Aramaic\n",
            "loading alphabet: Mkhedruli_(Georgian)\n",
            "loading alphabet: Latin\n",
            "loading alphabet: Alphabet_of_the_Magi\n",
            "loading alphabet: Japanese_(hiragana)\n",
            "loading alphabet: Gujarati\n",
            "loading alphabet: Ojibwe_(Canadian_Aboriginal_Syllabics)\n",
            "loading alphabet: Arcadian\n",
            "loading alphabet: Asomtavruli_(Georgian)\n",
            "loading alphabet: Braille\n"
          ],
          "name": "stdout"
        },
        {
          "output_type": "execute_result",
          "data": {
            "text/plain": [
              "((964, 20, 105, 105), (19280, 1))"
            ]
          },
          "metadata": {
            "tags": []
          },
          "execution_count": 6
        }
      ]
    },
    {
      "metadata": {
        "id": "OIv7Gqw2nprk",
        "colab_type": "code",
        "outputId": "50af9a25-6f24-4339-8c69-30424395174c",
        "colab": {
          "base_uri": "https://localhost:8080/",
          "height": 53
        }
      },
      "cell_type": "code",
      "source": [
        "c.keys()"
      ],
      "execution_count": 7,
      "outputs": [
        {
          "output_type": "execute_result",
          "data": {
            "text/plain": [
              "dict_keys(['Malay_(Jawi_-_Arabic)', 'Sanskrit', 'Syriac_(Estrangelo)', 'Japanese_(katakana)', 'Bengali', 'Burmese_(Myanmar)', 'Inuktitut_(Canadian_Aboriginal_Syllabics)', 'Balinese', 'Blackfoot_(Canadian_Aboriginal_Syllabics)', 'Tagalog', 'Tifinagh', 'Hebrew', 'Grantha', 'Futurama', 'Armenian', 'Greek', 'N_Ko', 'Anglo-Saxon_Futhorc', 'Cyrillic', 'Korean', 'Early_Aramaic', 'Mkhedruli_(Georgian)', 'Latin', 'Alphabet_of_the_Magi', 'Japanese_(hiragana)', 'Gujarati', 'Ojibwe_(Canadian_Aboriginal_Syllabics)', 'Arcadian', 'Asomtavruli_(Georgian)', 'Braille'])"
            ]
          },
          "metadata": {
            "tags": []
          },
          "execution_count": 7
        }
      ]
    },
    {
      "metadata": {
        "id": "wpOpvjIwnxxt",
        "colab_type": "code",
        "outputId": "6a54ec12-f129-4e7d-b05f-6e74b2c3f569",
        "colab": {
          "base_uri": "https://localhost:8080/",
          "height": 33
        }
      },
      "cell_type": "code",
      "source": [
        "c['Bengali'], c['Gujarati']"
      ],
      "execution_count": 8,
      "outputs": [
        {
          "output_type": "execute_result",
          "data": {
            "text/plain": [
              "([152, 197], [810, 857])"
            ]
          },
          "metadata": {
            "tags": []
          },
          "execution_count": 8
        }
      ]
    },
    {
      "metadata": {
        "id": "JfSZEp5mqRjE",
        "colab_type": "code",
        "outputId": "90adb08e-7d9e-4789-c4fb-3928daf5c8c4",
        "colab": {
          "base_uri": "https://localhost:8080/",
          "height": 368
        }
      },
      "cell_type": "code",
      "source": [
        "X_val, y_val, c_val=loadimgs(valid_folder)\n",
        "X_val.shape, y_val.shape"
      ],
      "execution_count": 9,
      "outputs": [
        {
          "output_type": "stream",
          "text": [
            "loading alphabet: Kannada\n",
            "loading alphabet: Malayalam\n",
            "loading alphabet: Sylheti\n",
            "loading alphabet: Tengwar\n",
            "loading alphabet: Tibetan\n",
            "loading alphabet: Keble\n",
            "loading alphabet: Atemayar_Qelisayer\n",
            "loading alphabet: Gurmukhi\n",
            "loading alphabet: Glagolitic\n",
            "loading alphabet: Aurek-Besh\n",
            "loading alphabet: ULOG\n",
            "loading alphabet: Atlantean\n",
            "loading alphabet: Angelic\n",
            "loading alphabet: Old_Church_Slavonic_(Cyrillic)\n",
            "loading alphabet: Manipuri\n",
            "loading alphabet: Syriac_(Serto)\n",
            "loading alphabet: Avesta\n",
            "loading alphabet: Ge_ez\n",
            "loading alphabet: Mongolian\n",
            "loading alphabet: Oriya\n"
          ],
          "name": "stdout"
        },
        {
          "output_type": "execute_result",
          "data": {
            "text/plain": [
              "((659, 20, 105, 105), (13180, 1))"
            ]
          },
          "metadata": {
            "tags": []
          },
          "execution_count": 9
        }
      ]
    },
    {
      "metadata": {
        "id": "uKtS_6znqIGj",
        "colab_type": "code",
        "colab": {}
      },
      "cell_type": "code",
      "source": [
        "import pickle\n",
        "\n",
        "with open(os.path.join(save_path,\"train.pickle\"), \"wb\") as f:\n",
        "    pickle.dump((X,c), f)\n",
        "    \n",
        "with open(os.path.join(save_path,\"val.pickle\"), \"wb\") as f:\n",
        "    pickle.dump((X_val,c_val), f)"
      ],
      "execution_count": 0,
      "outputs": []
    },
    {
      "metadata": {
        "id": "FHWH_8-8sdu7",
        "colab_type": "text"
      },
      "cell_type": "markdown",
      "source": [
        "### Loading the train and validation tensors"
      ]
    },
    {
      "metadata": {
        "id": "FYtrmSvprVm9",
        "colab_type": "code",
        "outputId": "476cd531-f7ea-40dd-b0c9-461b7f5c35a1",
        "colab": {
          "base_uri": "https://localhost:8080/",
          "height": 187
        }
      },
      "cell_type": "code",
      "source": [
        "with open(os.path.join(save_path, \"train.pickle\"), \"rb\") as f:\n",
        "    (X_train, train_classes) = pickle.load(f)\n",
        "    \n",
        "print(\"Training alphabets: \\n\")\n",
        "print(list(train_classes.keys()))\n",
        "\n",
        "\n",
        "with open(os.path.join(save_path, \"val.pickle\"), \"rb\") as f:\n",
        "    (X_val, val_classes) = pickle.load(f)\n",
        "\n",
        "print(\"\\n\\n\\nValidation alphabets: \\n\")\n",
        "print(list(val_classes.keys()))"
      ],
      "execution_count": 11,
      "outputs": [
        {
          "output_type": "stream",
          "text": [
            "Training alphabets: \n",
            "\n",
            "['Malay_(Jawi_-_Arabic)', 'Sanskrit', 'Syriac_(Estrangelo)', 'Japanese_(katakana)', 'Bengali', 'Burmese_(Myanmar)', 'Inuktitut_(Canadian_Aboriginal_Syllabics)', 'Balinese', 'Blackfoot_(Canadian_Aboriginal_Syllabics)', 'Tagalog', 'Tifinagh', 'Hebrew', 'Grantha', 'Futurama', 'Armenian', 'Greek', 'N_Ko', 'Anglo-Saxon_Futhorc', 'Cyrillic', 'Korean', 'Early_Aramaic', 'Mkhedruli_(Georgian)', 'Latin', 'Alphabet_of_the_Magi', 'Japanese_(hiragana)', 'Gujarati', 'Ojibwe_(Canadian_Aboriginal_Syllabics)', 'Arcadian', 'Asomtavruli_(Georgian)', 'Braille']\n",
            "\n",
            "\n",
            "\n",
            "Validation alphabets: \n",
            "\n",
            "['Kannada', 'Malayalam', 'Sylheti', 'Tengwar', 'Tibetan', 'Keble', 'Atemayar_Qelisayer', 'Gurmukhi', 'Glagolitic', 'Aurek-Besh', 'ULOG', 'Atlantean', 'Angelic', 'Old_Church_Slavonic_(Cyrillic)', 'Manipuri', 'Syriac_(Serto)', 'Avesta', 'Ge_ez', 'Mongolian', 'Oriya']\n"
          ],
          "name": "stdout"
        }
      ]
    },
    {
      "metadata": {
        "id": "rcpvbqBye2nO",
        "colab_type": "code",
        "colab": {}
      },
      "cell_type": "code",
      "source": [
        "def get_batch(batch_size,s=\"train\"):\n",
        "    \"\"\"\n",
        "    Create batch of n pairs, half same class, half different class\n",
        "    \"\"\"\n",
        "    if s == 'train':\n",
        "        X = X_train\n",
        "        categories = train_classes\n",
        "    else:\n",
        "        X = X_val\n",
        "        categories = val_classes\n",
        "    n_classes, n_examples, w, h = X.shape\n",
        "    # randomly sample several classes to use in the batch\n",
        "    categories = rng.choice(n_classes,size=(batch_size,),replace=False)\n",
        "    \n",
        "    # initialize 2 empty arrays for the input image batch\n",
        "    pairs=[np.zeros((batch_size, h, w,1)) for i in range(2)]\n",
        "    \n",
        "    # initialize vector for the targets\n",
        "    targets=np.zeros((batch_size,))\n",
        "    \n",
        "    # make one half of it '1's, so 2nd half of batch has same class\n",
        "    targets[batch_size//2:] = 1\n",
        "    for i in range(batch_size):\n",
        "        category = categories[i]\n",
        "        idx_1 = rng.randint(0, n_examples)\n",
        "        pairs[0][i,:,:,:] = X[category, idx_1].reshape(w, h, 1)\n",
        "        idx_2 = rng.randint(0, n_examples)\n",
        "        \n",
        "        # pick images of same class for 1st half, different for 2nd\n",
        "        if i >= batch_size // 2:\n",
        "            category_2 = category  \n",
        "        else: \n",
        "            # add a random number to the category modulo n classes to ensure 2nd image has a different category\n",
        "            category_2 = (category + rng.randint(1,n_classes)) % n_classes\n",
        "        \n",
        "        pairs[1][i,:,:,:] = X[category_2,idx_2].reshape(w, h,1)\n",
        "    \n",
        "    return pairs, targets\n",
        "\n",
        "\n",
        "def generate(batch_size, s=\"train\"):\n",
        "    \"\"\"\n",
        "    a generator for batches, so model.fit_generator can be used.\n",
        "    \"\"\"\n",
        "    while True:\n",
        "        pairs, targets = get_batch(batch_size, s)\n",
        "        yield (pairs, targets)"
      ],
      "execution_count": 0,
      "outputs": []
    },
    {
      "metadata": {
        "id": "u5D1A2akoNI9",
        "colab_type": "code",
        "colab": {}
      },
      "cell_type": "code",
      "source": [
        "def make_oneshot_task(N, s=\"val\", language=None):\n",
        "    \"\"\"Create pairs of test image, support set for testing N way one-shot learning. \"\"\"\n",
        "    if s == 'train':\n",
        "        X = X_train\n",
        "        categories = train_classes\n",
        "    else:\n",
        "        X = X_val\n",
        "        categories = val_classes\n",
        "    n_classes, n_examples, w, h = X.shape\n",
        "    \n",
        "    indices = rng.randint(0, n_examples,size=(N,))\n",
        "    if language is not None: # if language is specified, select characters for that language\n",
        "        low, high = categories[language]\n",
        "        if N > high - low:\n",
        "            raise ValueError(\"This language ({}) has less than {} letters\".format(language, N))\n",
        "        categories = rng.choice(range(low,high),size=(N,),replace=False)\n",
        "    else: # if no language specified just pick a bunch of random letters\n",
        "        categories = rng.choice(range(n_classes),size=(N,),replace=False)            \n",
        "    \n",
        "    true_category = categories[0]\n",
        "    ex1, ex2 = rng.choice(n_examples,replace=False,size=(2,))\n",
        "    test_image = np.asarray([X[true_category,ex1,:,:]]*N).reshape(N, w, h,1)\n",
        "    support_set = X[categories,indices,:,:]\n",
        "    support_set[0,:,:] = X[true_category,ex2]\n",
        "    support_set = support_set.reshape(N, w, h,1)\n",
        "    targets = np.zeros((N,))\n",
        "    targets[0] = 1\n",
        "    targets, test_image, support_set = shuffle(targets, test_image, support_set)\n",
        "    pairs = [test_image,support_set]\n",
        "        \n",
        "    return pairs, targets\n",
        "\n",
        "\n",
        "def test_oneshot(model, N, k, s = \"val\", verbose = 0):\n",
        "    \"\"\"Test average N way oneshot learning accuracy of a siamese neural net over k one-shot tasks\"\"\"\n",
        "    n_correct = 0\n",
        "    if verbose:\n",
        "        print(\"Evaluating model on {} random {} way one-shot learning tasks ... \".format(k,N))\n",
        "    for i in range(k):\n",
        "        inputs, targets = make_oneshot_task(N,s)\n",
        "        probs = model.predict(inputs)\n",
        "        if np.argmax(probs) == np.argmax(targets):\n",
        "            n_correct+=1\n",
        "    percent_correct = (100.0 * n_correct / k)\n",
        "    if verbose:\n",
        "        print(\"Got an average of {}% {} way one-shot learning accuracy \\n\".format(percent_correct,N))\n",
        "        \n",
        "    return percent_correct"
      ],
      "execution_count": 0,
      "outputs": []
    },
    {
      "metadata": {
        "id": "9hugRbUjY-Na",
        "colab_type": "code",
        "colab": {}
      },
      "cell_type": "code",
      "source": [
        "def W_init(shape,name=None):\n",
        "    \"\"\"Initialize weights as in paper\"\"\"\n",
        "    values = rng.normal(loc=0,scale=1e-2,size=shape)\n",
        "    return K.variable(values,name=name)\n",
        "\n",
        "def b_init(shape,name=None):\n",
        "    \"\"\"Initialize bias as in paper\"\"\"\n",
        "    values=rng.normal(loc=0.5,scale=1e-2,size=shape)\n",
        "    return K.variable(values,name=name)"
      ],
      "execution_count": 0,
      "outputs": []
    },
    {
      "metadata": {
        "id": "uB3wNCq7ZDuO",
        "colab_type": "code",
        "colab": {}
      },
      "cell_type": "code",
      "source": [
        "def model(input_shape=(105, 105, 1)):\n",
        "    left_input = Input(input_shape)\n",
        "    right_input = Input(input_shape)\n",
        "    \n",
        "    # build convnet to use in each siamese 'leg'\n",
        "    convnet = Sequential()\n",
        "    convnet.add(Conv2D(64,(10,10),activation='relu',input_shape=input_shape,\n",
        "                       kernel_initializer=W_init,kernel_regularizer=l2(2e-4)))\n",
        "    convnet.add(MaxPooling2D())\n",
        "    convnet.add(Dropout(0.2))\n",
        "    \n",
        "    convnet.add(Conv2D(128,(7,7),activation='relu',\n",
        "                       kernel_regularizer=l2(2e-4),kernel_initializer=W_init,bias_initializer=b_init))\n",
        "    convnet.add(MaxPooling2D())\n",
        "    convnet.add(Dropout(0.2))\n",
        "    \n",
        "    convnet.add(Conv2D(128,(4,4),activation='relu',kernel_initializer=W_init,kernel_regularizer=l2(2e-4),bias_initializer=b_init))\n",
        "    convnet.add(MaxPooling2D())\n",
        "    convnet.add(Dropout(0.2))\n",
        "    \n",
        "    convnet.add(Conv2D(256,(4,4),activation='relu',kernel_initializer=W_init,kernel_regularizer=l2(2e-4),bias_initializer=b_init))\n",
        "    convnet.add(Flatten())\n",
        "    convnet.add(Dense(4096,activation=\"sigmoid\",kernel_regularizer=l2(1e-3),kernel_initializer=W_init,bias_initializer=b_init))\n",
        "    \n",
        "    # encode each of the two inputs into a vector with the convnet\n",
        "    encoded_l = convnet(left_input)\n",
        "    encoded_r = convnet(right_input)\n",
        "    \n",
        "    # merge two encoded inputs with the l1 distance between them\n",
        "    L1_layer = Lambda(lambda tensors:K.abs(tensors[0] - tensors[1]))\n",
        "    L1_distance = L1_layer([encoded_l, encoded_r])\n",
        "    prediction = Dense(1,activation='sigmoid',bias_initializer=b_init)(L1_distance)\n",
        "    \n",
        "    siamese_net = Model(inputs=[left_input, right_input], outputs=prediction)\n",
        "    # optimizer = SGD(0.0004,momentum=0.6,nesterov=True,decay=0.0003)\n",
        "\n",
        "    optimizer = Adam(0.0001)\n",
        "    # get layerwise learning rates and momentum annealing scheme described in paperworking\n",
        "    siamese_net.compile(loss=\"binary_crossentropy\", optimizer=optimizer)\n",
        "    \n",
        "    return siamese_net"
      ],
      "execution_count": 0,
      "outputs": []
    },
    {
      "metadata": {
        "id": "evEFP8x6aGQc",
        "colab_type": "code",
        "outputId": "4bd0e95e-f53d-45e6-9ce1-af8a3c893076",
        "colab": {
          "base_uri": "https://localhost:8080/",
          "height": 334
        }
      },
      "cell_type": "code",
      "source": [
        "model = model()\n",
        "model.summary()"
      ],
      "execution_count": 24,
      "outputs": [
        {
          "output_type": "stream",
          "text": [
            "__________________________________________________________________________________________________\n",
            "Layer (type)                    Output Shape         Param #     Connected to                     \n",
            "==================================================================================================\n",
            "input_3 (InputLayer)            (None, 105, 105, 1)  0                                            \n",
            "__________________________________________________________________________________________________\n",
            "input_4 (InputLayer)            (None, 105, 105, 1)  0                                            \n",
            "__________________________________________________________________________________________________\n",
            "sequential_2 (Sequential)       (None, 4096)         38947648    input_3[0][0]                    \n",
            "                                                                 input_4[0][0]                    \n",
            "__________________________________________________________________________________________________\n",
            "lambda_2 (Lambda)               (None, 4096)         0           sequential_2[1][0]               \n",
            "                                                                 sequential_2[2][0]               \n",
            "__________________________________________________________________________________________________\n",
            "dense_4 (Dense)                 (None, 1)            4097        lambda_2[0][0]                   \n",
            "==================================================================================================\n",
            "Total params: 38,951,745\n",
            "Trainable params: 38,951,745\n",
            "Non-trainable params: 0\n",
            "__________________________________________________________________________________________________\n"
          ],
          "name": "stdout"
        }
      ]
    },
    {
      "metadata": {
        "id": "EinZuGxTgx0-",
        "colab_type": "code",
        "outputId": "a39ecefa-ada3-4605-efdd-1e0d21716638",
        "colab": {
          "base_uri": "https://localhost:8080/",
          "height": 422
        }
      },
      "cell_type": "code",
      "source": [
        "from keras.utils import plot_model\n",
        "import IPython\n",
        "\n",
        "plot_model(model, show_shapes=True, show_layer_names=True)\n",
        "IPython.display.Image('model.png')"
      ],
      "execution_count": 19,
      "outputs": [
        {
          "output_type": "execute_result",
          "data": {
            "image/png": "[encoded data removed]",
            "text/plain": [
              "<IPython.core.display.Image object>"
            ]
          },
          "metadata": {
            "tags": []
          },
          "execution_count": 19
        }
      ]
    },
    {
      "metadata": {
        "id": "gcbicXi7s3u9",
        "colab_type": "code",
        "colab": {}
      },
      "cell_type": "code",
      "source": [
        "def training_starts(evaluate_every=250, batch_size=32, n_iter=10000, N_way=20, n_val=250):\n",
        "    '''\n",
        "    Hyper parameters\n",
        "    \n",
        "    evaluate_every : interval for evaluating on one-shot tasks\n",
        "    batch_size : batch size\n",
        "    n_iter : No. of training iterations\n",
        "    N_way : how many classes for testing one-shot tasks\n",
        "    n_val : how many one-shot tasks to validate on\n",
        "    '''\n",
        "    \n",
        "    print(\"Starting training process!\")\n",
        "    print(\"-------------------------------------\")\n",
        "    best = -1\n",
        "    t_start = time.time()\n",
        "    \n",
        "    for i in range(1, n_iter+1):\n",
        "        (inputs, targets) = get_batch(batch_size)\n",
        "        loss = model.train_on_batch(inputs, targets)\n",
        "        \n",
        "        if i % evaluate_every == 0:\n",
        "            print(\"\\n ------------- \\n\")\n",
        "            print(\"Time for {0} iterations: {1} mins\".format(i, (time.time()-t_start)/60.0))\n",
        "            print(\"Train Loss: {0}\".format(loss)) \n",
        "            val_acc = test_oneshot(model, N_way, n_val, verbose=True)\n",
        "            \n",
        "            if val_acc >= best:\n",
        "                print(\"Current best: {0}, previous best: {1}\".format(val_acc, best))\n",
        "                model.save_weights(os.path.join(model_path, 'weights.{}.h5'.format(val_acc)))\n",
        "                best = val_acc\n",
        "                \n",
        "    print(\"-------------------------------------\")"
      ],
      "execution_count": 0,
      "outputs": []
    },
    {
      "metadata": {
        "id": "cQYQ8hF-uDSi",
        "colab_type": "code",
        "outputId": "347b3d89-84eb-4ce4-8a90-395cb4215140",
        "colab": {
          "base_uri": "https://localhost:8080/",
          "height": 4029
        }
      },
      "cell_type": "code",
      "source": [
        "%%time\n",
        "\n",
        "training_starts()"
      ],
      "execution_count": 25,
      "outputs": [
        {
          "output_type": "stream",
          "text": [
            "Starting training process!\n",
            "-------------------------------------\n",
            "\n",
            " ------------- \n",
            "\n",
            "Time for 250 iterations: 0.920865019162496 mins\n",
            "Train Loss: 2.1919808387756348\n",
            "Evaluating model on 250 random 20 way one-shot learning tasks ... \n",
            "Got an average of 27.6% 20 way one-shot learning accuracy \n",
            "\n",
            "Current best: 27.6, previous best: -1\n",
            "\n",
            " ------------- \n",
            "\n",
            "Time for 500 iterations: 1.8992603341738383 mins\n",
            "Train Loss: 1.4028944969177246\n",
            "Evaluating model on 250 random 20 way one-shot learning tasks ... \n",
            "Got an average of 32.0% 20 way one-shot learning accuracy \n",
            "\n",
            "Current best: 32.0, previous best: 27.6\n",
            "\n",
            " ------------- \n",
            "\n",
            "Time for 750 iterations: 2.8746812105178834 mins\n",
            "Train Loss: 1.0214228630065918\n",
            "Evaluating model on 250 random 20 way one-shot learning tasks ... \n",
            "Got an average of 43.6% 20 way one-shot learning accuracy \n",
            "\n",
            "Current best: 43.6, previous best: 32.0\n",
            "\n",
            " ------------- \n",
            "\n",
            "Time for 1000 iterations: 3.8488218824068707 mins\n",
            "Train Loss: 0.8343060612678528\n",
            "Evaluating model on 250 random 20 way one-shot learning tasks ... \n",
            "Got an average of 50.8% 20 way one-shot learning accuracy \n",
            "\n",
            "Current best: 50.8, previous best: 43.6\n",
            "\n",
            " ------------- \n",
            "\n",
            "Time for 1250 iterations: 4.819377179940542 mins\n",
            "Train Loss: 0.6880856156349182\n",
            "Evaluating model on 250 random 20 way one-shot learning tasks ... \n",
            "Got an average of 57.6% 20 way one-shot learning accuracy \n",
            "\n",
            "Current best: 57.6, previous best: 50.8\n",
            "\n",
            " ------------- \n",
            "\n",
            "Time for 1500 iterations: 5.791162761052449 mins\n",
            "Train Loss: 0.6435081362724304\n",
            "Evaluating model on 250 random 20 way one-shot learning tasks ... \n",
            "Got an average of 56.8% 20 way one-shot learning accuracy \n",
            "\n",
            "\n",
            " ------------- \n",
            "\n",
            "Time for 1750 iterations: 6.760451300938924 mins\n",
            "Train Loss: 0.4972134232521057\n",
            "Evaluating model on 250 random 20 way one-shot learning tasks ... \n",
            "Got an average of 44.4% 20 way one-shot learning accuracy \n",
            "\n",
            "\n",
            " ------------- \n",
            "\n",
            "Time for 2000 iterations: 7.728796231746673 mins\n",
            "Train Loss: 0.5165708661079407\n",
            "Evaluating model on 250 random 20 way one-shot learning tasks ... \n",
            "Got an average of 55.6% 20 way one-shot learning accuracy \n",
            "\n",
            "\n",
            " ------------- \n",
            "\n",
            "Time for 2250 iterations: 8.698884359995525 mins\n",
            "Train Loss: 0.49262529611587524\n",
            "Evaluating model on 250 random 20 way one-shot learning tasks ... \n",
            "Got an average of 65.2% 20 way one-shot learning accuracy \n",
            "\n",
            "Current best: 65.2, previous best: 57.6\n",
            "\n",
            " ------------- \n",
            "\n",
            "Time for 2500 iterations: 9.673008358478546 mins\n",
            "Train Loss: 0.5200622081756592\n",
            "Evaluating model on 250 random 20 way one-shot learning tasks ... \n",
            "Got an average of 58.4% 20 way one-shot learning accuracy \n",
            "\n",
            "\n",
            " ------------- \n",
            "\n",
            "Time for 2750 iterations: 10.643787916501363 mins\n",
            "Train Loss: 0.4655683934688568\n",
            "Evaluating model on 250 random 20 way one-shot learning tasks ... \n",
            "Got an average of 57.6% 20 way one-shot learning accuracy \n",
            "\n",
            "\n",
            " ------------- \n",
            "\n",
            "Time for 3000 iterations: 11.613868407408397 mins\n",
            "Train Loss: 0.38252606987953186\n",
            "Evaluating model on 250 random 20 way one-shot learning tasks ... \n",
            "Got an average of 64.8% 20 way one-shot learning accuracy \n",
            "\n",
            "\n",
            " ------------- \n",
            "\n",
            "Time for 3250 iterations: 12.583169110616048 mins\n",
            "Train Loss: 0.44544005393981934\n",
            "Evaluating model on 250 random 20 way one-shot learning tasks ... \n",
            "Got an average of 70.0% 20 way one-shot learning accuracy \n",
            "\n",
            "Current best: 70.0, previous best: 65.2\n",
            "\n",
            " ------------- \n",
            "\n",
            "Time for 3500 iterations: 13.559627147515615 mins\n",
            "Train Loss: 0.35408324003219604\n",
            "Evaluating model on 250 random 20 way one-shot learning tasks ... \n",
            "Got an average of 59.2% 20 way one-shot learning accuracy \n",
            "\n",
            "\n",
            " ------------- \n",
            "\n",
            "Time for 3750 iterations: 14.535578604539236 mins\n",
            "Train Loss: 0.4373152256011963\n",
            "Evaluating model on 250 random 20 way one-shot learning tasks ... \n",
            "Got an average of 64.8% 20 way one-shot learning accuracy \n",
            "\n",
            "\n",
            " ------------- \n",
            "\n",
            "Time for 4000 iterations: 15.509977344671885 mins\n",
            "Train Loss: 0.3354189097881317\n",
            "Evaluating model on 250 random 20 way one-shot learning tasks ... \n",
            "Got an average of 62.4% 20 way one-shot learning accuracy \n",
            "\n",
            "\n",
            " ------------- \n",
            "\n",
            "Time for 4250 iterations: 16.484983440240224 mins\n",
            "Train Loss: 0.32402917742729187\n",
            "Evaluating model on 250 random 20 way one-shot learning tasks ... \n",
            "Got an average of 66.0% 20 way one-shot learning accuracy \n",
            "\n",
            "\n",
            " ------------- \n",
            "\n",
            "Time for 4500 iterations: 17.459986754258473 mins\n",
            "Train Loss: 0.26218104362487793\n",
            "Evaluating model on 250 random 20 way one-shot learning tasks ... \n",
            "Got an average of 68.8% 20 way one-shot learning accuracy \n",
            "\n",
            "\n",
            " ------------- \n",
            "\n",
            "Time for 4750 iterations: 18.43551475604375 mins\n",
            "Train Loss: 0.4164734482765198\n",
            "Evaluating model on 250 random 20 way one-shot learning tasks ... \n",
            "Got an average of 72.8% 20 way one-shot learning accuracy \n",
            "\n",
            "Current best: 72.8, previous best: 70.0\n",
            "\n",
            " ------------- \n",
            "\n",
            "Time for 5000 iterations: 19.408217132091522 mins\n",
            "Train Loss: 0.34778162837028503\n",
            "Evaluating model on 250 random 20 way one-shot learning tasks ... \n",
            "Got an average of 61.6% 20 way one-shot learning accuracy \n",
            "\n"
          ],
          "name": "stdout"
        },
        {
          "output_type": "error",
          "ename": "KeyboardInterrupt",
          "evalue": "ignored",
          "traceback": [
            "\u001b[0;31m---------------------------------------------------------------------------\u001b[0m",
            "\u001b[0;31mKeyboardInterrupt\u001b[0m                         Traceback (most recent call last)",
            "\u001b[0;32m<ipython-input-25-7ef200beec9f>\u001b[0m in \u001b[0;36m<module>\u001b[0;34m()\u001b[0m\n\u001b[0;32m----> 1\u001b[0;31m \u001b[0mget_ipython\u001b[0m\u001b[0;34m(\u001b[0m\u001b[0;34m)\u001b[0m\u001b[0;34m.\u001b[0m\u001b[0mrun_cell_magic\u001b[0m\u001b[0;34m(\u001b[0m\u001b[0;34m'time'\u001b[0m\u001b[0;34m,\u001b[0m \u001b[0;34m''\u001b[0m\u001b[0;34m,\u001b[0m \u001b[0;34m'\\ntraining_starts()'\u001b[0m\u001b[0;34m)\u001b[0m\u001b[0;34m\u001b[0m\u001b[0;34m\u001b[0m\u001b[0m\n\u001b[0m",
            "\u001b[0;32m/usr/local/lib/python3.6/dist-packages/IPython/core/interactiveshell.py\u001b[0m in \u001b[0;36mrun_cell_magic\u001b[0;34m(self, magic_name, line, cell)\u001b[0m\n\u001b[1;32m   2115\u001b[0m             \u001b[0mmagic_arg_s\u001b[0m \u001b[0;34m=\u001b[0m \u001b[0mself\u001b[0m\u001b[0;34m.\u001b[0m\u001b[0mvar_expand\u001b[0m\u001b[0;34m(\u001b[0m\u001b[0mline\u001b[0m\u001b[0;34m,\u001b[0m \u001b[0mstack_depth\u001b[0m\u001b[0;34m)\u001b[0m\u001b[0;34m\u001b[0m\u001b[0;34m\u001b[0m\u001b[0m\n\u001b[1;32m   2116\u001b[0m             \u001b[0;32mwith\u001b[0m \u001b[0mself\u001b[0m\u001b[0;34m.\u001b[0m\u001b[0mbuiltin_trap\u001b[0m\u001b[0;34m:\u001b[0m\u001b[0;34m\u001b[0m\u001b[0;34m\u001b[0m\u001b[0m\n\u001b[0;32m-> 2117\u001b[0;31m                 \u001b[0mresult\u001b[0m \u001b[0;34m=\u001b[0m \u001b[0mfn\u001b[0m\u001b[0;34m(\u001b[0m\u001b[0mmagic_arg_s\u001b[0m\u001b[0;34m,\u001b[0m \u001b[0mcell\u001b[0m\u001b[0;34m)\u001b[0m\u001b[0;34m\u001b[0m\u001b[0;34m\u001b[0m\u001b[0m\n\u001b[0m\u001b[1;32m   2118\u001b[0m             \u001b[0;32mreturn\u001b[0m \u001b[0mresult\u001b[0m\u001b[0;34m\u001b[0m\u001b[0;34m\u001b[0m\u001b[0m\n\u001b[1;32m   2119\u001b[0m \u001b[0;34m\u001b[0m\u001b[0m\n",
            "\u001b[0;32m</usr/local/lib/python3.6/dist-packages/decorator.py:decorator-gen-60>\u001b[0m in \u001b[0;36mtime\u001b[0;34m(self, line, cell, local_ns)\u001b[0m\n",
            "\u001b[0;32m/usr/local/lib/python3.6/dist-packages/IPython/core/magic.py\u001b[0m in \u001b[0;36m<lambda>\u001b[0;34m(f, *a, **k)\u001b[0m\n\u001b[1;32m    186\u001b[0m     \u001b[0;31m# but it's overkill for just that one bit of state.\u001b[0m\u001b[0;34m\u001b[0m\u001b[0;34m\u001b[0m\u001b[0;34m\u001b[0m\u001b[0m\n\u001b[1;32m    187\u001b[0m     \u001b[0;32mdef\u001b[0m \u001b[0mmagic_deco\u001b[0m\u001b[0;34m(\u001b[0m\u001b[0marg\u001b[0m\u001b[0;34m)\u001b[0m\u001b[0;34m:\u001b[0m\u001b[0;34m\u001b[0m\u001b[0;34m\u001b[0m\u001b[0m\n\u001b[0;32m--> 188\u001b[0;31m         \u001b[0mcall\u001b[0m \u001b[0;34m=\u001b[0m \u001b[0;32mlambda\u001b[0m \u001b[0mf\u001b[0m\u001b[0;34m,\u001b[0m \u001b[0;34m*\u001b[0m\u001b[0ma\u001b[0m\u001b[0;34m,\u001b[0m \u001b[0;34m**\u001b[0m\u001b[0mk\u001b[0m\u001b[0;34m:\u001b[0m \u001b[0mf\u001b[0m\u001b[0;34m(\u001b[0m\u001b[0;34m*\u001b[0m\u001b[0ma\u001b[0m\u001b[0;34m,\u001b[0m \u001b[0;34m**\u001b[0m\u001b[0mk\u001b[0m\u001b[0;34m)\u001b[0m\u001b[0;34m\u001b[0m\u001b[0;34m\u001b[0m\u001b[0m\n\u001b[0m\u001b[1;32m    189\u001b[0m \u001b[0;34m\u001b[0m\u001b[0m\n\u001b[1;32m    190\u001b[0m         \u001b[0;32mif\u001b[0m \u001b[0mcallable\u001b[0m\u001b[0;34m(\u001b[0m\u001b[0marg\u001b[0m\u001b[0;34m)\u001b[0m\u001b[0;34m:\u001b[0m\u001b[0;34m\u001b[0m\u001b[0;34m\u001b[0m\u001b[0m\n",
            "\u001b[0;32m/usr/local/lib/python3.6/dist-packages/IPython/core/magics/execution.py\u001b[0m in \u001b[0;36mtime\u001b[0;34m(self, line, cell, local_ns)\u001b[0m\n\u001b[1;32m   1187\u001b[0m         \u001b[0;32mif\u001b[0m \u001b[0mmode\u001b[0m\u001b[0;34m==\u001b[0m\u001b[0;34m'eval'\u001b[0m\u001b[0;34m:\u001b[0m\u001b[0;34m\u001b[0m\u001b[0;34m\u001b[0m\u001b[0m\n\u001b[1;32m   1188\u001b[0m             \u001b[0mst\u001b[0m \u001b[0;34m=\u001b[0m \u001b[0mclock2\u001b[0m\u001b[0;34m(\u001b[0m\u001b[0;34m)\u001b[0m\u001b[0;34m\u001b[0m\u001b[0;34m\u001b[0m\u001b[0m\n\u001b[0;32m-> 1189\u001b[0;31m             \u001b[0mout\u001b[0m \u001b[0;34m=\u001b[0m \u001b[0meval\u001b[0m\u001b[0;34m(\u001b[0m\u001b[0mcode\u001b[0m\u001b[0;34m,\u001b[0m \u001b[0mglob\u001b[0m\u001b[0;34m,\u001b[0m \u001b[0mlocal_ns\u001b[0m\u001b[0;34m)\u001b[0m\u001b[0;34m\u001b[0m\u001b[0;34m\u001b[0m\u001b[0m\n\u001b[0m\u001b[1;32m   1190\u001b[0m             \u001b[0mend\u001b[0m \u001b[0;34m=\u001b[0m \u001b[0mclock2\u001b[0m\u001b[0;34m(\u001b[0m\u001b[0;34m)\u001b[0m\u001b[0;34m\u001b[0m\u001b[0;34m\u001b[0m\u001b[0m\n\u001b[1;32m   1191\u001b[0m         \u001b[0;32melse\u001b[0m\u001b[0;34m:\u001b[0m\u001b[0;34m\u001b[0m\u001b[0;34m\u001b[0m\u001b[0m\n",
            "\u001b[0;32m<timed eval>\u001b[0m in \u001b[0;36m<module>\u001b[0;34m()\u001b[0m\n",
            "\u001b[0;32m<ipython-input-20-63bdc1086527>\u001b[0m in \u001b[0;36mtraining_starts\u001b[0;34m(evaluate_every, batch_size, n_iter, N_way, n_val)\u001b[0m\n\u001b[1;32m     17\u001b[0m     \u001b[0;32mfor\u001b[0m \u001b[0mi\u001b[0m \u001b[0;32min\u001b[0m \u001b[0mrange\u001b[0m\u001b[0;34m(\u001b[0m\u001b[0;36m1\u001b[0m\u001b[0;34m,\u001b[0m \u001b[0mn_iter\u001b[0m\u001b[0;34m+\u001b[0m\u001b[0;36m1\u001b[0m\u001b[0;34m)\u001b[0m\u001b[0;34m:\u001b[0m\u001b[0;34m\u001b[0m\u001b[0;34m\u001b[0m\u001b[0m\n\u001b[1;32m     18\u001b[0m         \u001b[0;34m(\u001b[0m\u001b[0minputs\u001b[0m\u001b[0;34m,\u001b[0m \u001b[0mtargets\u001b[0m\u001b[0;34m)\u001b[0m \u001b[0;34m=\u001b[0m \u001b[0mget_batch\u001b[0m\u001b[0;34m(\u001b[0m\u001b[0mbatch_size\u001b[0m\u001b[0;34m)\u001b[0m\u001b[0;34m\u001b[0m\u001b[0;34m\u001b[0m\u001b[0m\n\u001b[0;32m---> 19\u001b[0;31m         \u001b[0mloss\u001b[0m \u001b[0;34m=\u001b[0m \u001b[0mmodel\u001b[0m\u001b[0;34m.\u001b[0m\u001b[0mtrain_on_batch\u001b[0m\u001b[0;34m(\u001b[0m\u001b[0minputs\u001b[0m\u001b[0;34m,\u001b[0m \u001b[0mtargets\u001b[0m\u001b[0;34m)\u001b[0m\u001b[0;34m\u001b[0m\u001b[0;34m\u001b[0m\u001b[0m\n\u001b[0m\u001b[1;32m     20\u001b[0m \u001b[0;34m\u001b[0m\u001b[0m\n\u001b[1;32m     21\u001b[0m         \u001b[0;32mif\u001b[0m \u001b[0mi\u001b[0m \u001b[0;34m%\u001b[0m \u001b[0mevaluate_every\u001b[0m \u001b[0;34m==\u001b[0m \u001b[0;36m0\u001b[0m\u001b[0;34m:\u001b[0m\u001b[0;34m\u001b[0m\u001b[0;34m\u001b[0m\u001b[0m\n",
            "\u001b[0;32m/usr/local/lib/python3.6/dist-packages/keras/engine/training.py\u001b[0m in \u001b[0;36mtrain_on_batch\u001b[0;34m(self, x, y, sample_weight, class_weight)\u001b[0m\n\u001b[1;32m   1215\u001b[0m             \u001b[0mins\u001b[0m \u001b[0;34m=\u001b[0m \u001b[0mx\u001b[0m \u001b[0;34m+\u001b[0m \u001b[0my\u001b[0m \u001b[0;34m+\u001b[0m \u001b[0msample_weights\u001b[0m\u001b[0;34m\u001b[0m\u001b[0;34m\u001b[0m\u001b[0m\n\u001b[1;32m   1216\u001b[0m         \u001b[0mself\u001b[0m\u001b[0;34m.\u001b[0m\u001b[0m_make_train_function\u001b[0m\u001b[0;34m(\u001b[0m\u001b[0;34m)\u001b[0m\u001b[0;34m\u001b[0m\u001b[0;34m\u001b[0m\u001b[0m\n\u001b[0;32m-> 1217\u001b[0;31m         \u001b[0moutputs\u001b[0m \u001b[0;34m=\u001b[0m \u001b[0mself\u001b[0m\u001b[0;34m.\u001b[0m\u001b[0mtrain_function\u001b[0m\u001b[0;34m(\u001b[0m\u001b[0mins\u001b[0m\u001b[0;34m)\u001b[0m\u001b[0;34m\u001b[0m\u001b[0;34m\u001b[0m\u001b[0m\n\u001b[0m\u001b[1;32m   1218\u001b[0m         \u001b[0;32mreturn\u001b[0m \u001b[0munpack_singleton\u001b[0m\u001b[0;34m(\u001b[0m\u001b[0moutputs\u001b[0m\u001b[0;34m)\u001b[0m\u001b[0;34m\u001b[0m\u001b[0;34m\u001b[0m\u001b[0m\n\u001b[1;32m   1219\u001b[0m \u001b[0;34m\u001b[0m\u001b[0m\n",
            "\u001b[0;32m/usr/local/lib/python3.6/dist-packages/keras/backend/tensorflow_backend.py\u001b[0m in \u001b[0;36m__call__\u001b[0;34m(self, inputs)\u001b[0m\n\u001b[1;32m   2713\u001b[0m                 \u001b[0;32mreturn\u001b[0m \u001b[0mself\u001b[0m\u001b[0;34m.\u001b[0m\u001b[0m_legacy_call\u001b[0m\u001b[0;34m(\u001b[0m\u001b[0minputs\u001b[0m\u001b[0;34m)\u001b[0m\u001b[0;34m\u001b[0m\u001b[0;34m\u001b[0m\u001b[0m\n\u001b[1;32m   2714\u001b[0m \u001b[0;34m\u001b[0m\u001b[0m\n\u001b[0;32m-> 2715\u001b[0;31m             \u001b[0;32mreturn\u001b[0m \u001b[0mself\u001b[0m\u001b[0;34m.\u001b[0m\u001b[0m_call\u001b[0m\u001b[0;34m(\u001b[0m\u001b[0minputs\u001b[0m\u001b[0;34m)\u001b[0m\u001b[0;34m\u001b[0m\u001b[0;34m\u001b[0m\u001b[0m\n\u001b[0m\u001b[1;32m   2716\u001b[0m         \u001b[0;32melse\u001b[0m\u001b[0;34m:\u001b[0m\u001b[0;34m\u001b[0m\u001b[0;34m\u001b[0m\u001b[0m\n\u001b[1;32m   2717\u001b[0m             \u001b[0;32mif\u001b[0m \u001b[0mpy_any\u001b[0m\u001b[0;34m(\u001b[0m\u001b[0mis_tensor\u001b[0m\u001b[0;34m(\u001b[0m\u001b[0mx\u001b[0m\u001b[0;34m)\u001b[0m \u001b[0;32mfor\u001b[0m \u001b[0mx\u001b[0m \u001b[0;32min\u001b[0m \u001b[0minputs\u001b[0m\u001b[0;34m)\u001b[0m\u001b[0;34m:\u001b[0m\u001b[0;34m\u001b[0m\u001b[0;34m\u001b[0m\u001b[0m\n",
            "\u001b[0;32m/usr/local/lib/python3.6/dist-packages/keras/backend/tensorflow_backend.py\u001b[0m in \u001b[0;36m_call\u001b[0;34m(self, inputs)\u001b[0m\n\u001b[1;32m   2673\u001b[0m             \u001b[0mfetched\u001b[0m \u001b[0;34m=\u001b[0m \u001b[0mself\u001b[0m\u001b[0;34m.\u001b[0m\u001b[0m_callable_fn\u001b[0m\u001b[0;34m(\u001b[0m\u001b[0;34m*\u001b[0m\u001b[0marray_vals\u001b[0m\u001b[0;34m,\u001b[0m \u001b[0mrun_metadata\u001b[0m\u001b[0;34m=\u001b[0m\u001b[0mself\u001b[0m\u001b[0;34m.\u001b[0m\u001b[0mrun_metadata\u001b[0m\u001b[0;34m)\u001b[0m\u001b[0;34m\u001b[0m\u001b[0;34m\u001b[0m\u001b[0m\n\u001b[1;32m   2674\u001b[0m         \u001b[0;32melse\u001b[0m\u001b[0;34m:\u001b[0m\u001b[0;34m\u001b[0m\u001b[0;34m\u001b[0m\u001b[0m\n\u001b[0;32m-> 2675\u001b[0;31m             \u001b[0mfetched\u001b[0m \u001b[0;34m=\u001b[0m \u001b[0mself\u001b[0m\u001b[0;34m.\u001b[0m\u001b[0m_callable_fn\u001b[0m\u001b[0;34m(\u001b[0m\u001b[0;34m*\u001b[0m\u001b[0marray_vals\u001b[0m\u001b[0;34m)\u001b[0m\u001b[0;34m\u001b[0m\u001b[0;34m\u001b[0m\u001b[0m\n\u001b[0m\u001b[1;32m   2676\u001b[0m         \u001b[0;32mreturn\u001b[0m \u001b[0mfetched\u001b[0m\u001b[0;34m[\u001b[0m\u001b[0;34m:\u001b[0m\u001b[0mlen\u001b[0m\u001b[0;34m(\u001b[0m\u001b[0mself\u001b[0m\u001b[0;34m.\u001b[0m\u001b[0moutputs\u001b[0m\u001b[0;34m)\u001b[0m\u001b[0;34m]\u001b[0m\u001b[0;34m\u001b[0m\u001b[0;34m\u001b[0m\u001b[0m\n\u001b[1;32m   2677\u001b[0m \u001b[0;34m\u001b[0m\u001b[0m\n",
            "\u001b[0;32m/usr/local/lib/python3.6/dist-packages/tensorflow/python/client/session.py\u001b[0m in \u001b[0;36m__call__\u001b[0;34m(self, *args, **kwargs)\u001b[0m\n\u001b[1;32m   1437\u001b[0m           ret = tf_session.TF_SessionRunCallable(\n\u001b[1;32m   1438\u001b[0m               \u001b[0mself\u001b[0m\u001b[0;34m.\u001b[0m\u001b[0m_session\u001b[0m\u001b[0;34m.\u001b[0m\u001b[0m_session\u001b[0m\u001b[0;34m,\u001b[0m \u001b[0mself\u001b[0m\u001b[0;34m.\u001b[0m\u001b[0m_handle\u001b[0m\u001b[0;34m,\u001b[0m \u001b[0margs\u001b[0m\u001b[0;34m,\u001b[0m \u001b[0mstatus\u001b[0m\u001b[0;34m,\u001b[0m\u001b[0;34m\u001b[0m\u001b[0;34m\u001b[0m\u001b[0m\n\u001b[0;32m-> 1439\u001b[0;31m               run_metadata_ptr)\n\u001b[0m\u001b[1;32m   1440\u001b[0m         \u001b[0;32mif\u001b[0m \u001b[0mrun_metadata\u001b[0m\u001b[0;34m:\u001b[0m\u001b[0;34m\u001b[0m\u001b[0;34m\u001b[0m\u001b[0m\n\u001b[1;32m   1441\u001b[0m           \u001b[0mproto_data\u001b[0m \u001b[0;34m=\u001b[0m \u001b[0mtf_session\u001b[0m\u001b[0;34m.\u001b[0m\u001b[0mTF_GetBuffer\u001b[0m\u001b[0;34m(\u001b[0m\u001b[0mrun_metadata_ptr\u001b[0m\u001b[0;34m)\u001b[0m\u001b[0;34m\u001b[0m\u001b[0;34m\u001b[0m\u001b[0m\n",
            "\u001b[0;31mKeyboardInterrupt\u001b[0m: "
          ]
        }
      ]
    },
    {
      "metadata": {
        "id": "s08AzsFt44T_",
        "colab_type": "code",
        "colab": {}
      },
      "cell_type": "code",
      "source": [
        "model.compile(loss=\"binary_crossentropy\", optimizer=Adam(0.00001))"
      ],
      "execution_count": 0,
      "outputs": []
    },
    {
      "metadata": {
        "id": "a_K_ufv15CQf",
        "colab_type": "code",
        "colab": {
          "base_uri": "https://localhost:8080/",
          "height": 5687
        },
        "outputId": "c4c9b272-0d0b-4343-d45a-08bef4c5ba6c"
      },
      "cell_type": "code",
      "source": [
        "training_starts()"
      ],
      "execution_count": 27,
      "outputs": [
        {
          "output_type": "stream",
          "text": [
            "Starting training process!\n",
            "-------------------------------------\n",
            "\n",
            " ------------- \n",
            "\n",
            "Time for 250 iterations: 0.8936357339223225 mins\n",
            "Train Loss: 0.298666775226593\n",
            "Evaluating model on 250 random 20 way one-shot learning tasks ... \n",
            "Got an average of 69.2% 20 way one-shot learning accuracy \n",
            "\n",
            "Current best: 69.2, previous best: -1\n",
            "\n",
            " ------------- \n",
            "\n",
            "Time for 500 iterations: 1.8615651369094848 mins\n",
            "Train Loss: 0.21083159744739532\n",
            "Evaluating model on 250 random 20 way one-shot learning tasks ... \n",
            "Got an average of 72.4% 20 way one-shot learning accuracy \n",
            "\n",
            "Current best: 72.4, previous best: 69.2\n",
            "\n",
            " ------------- \n",
            "\n",
            "Time for 750 iterations: 2.8299784302711486 mins\n",
            "Train Loss: 0.37290340662002563\n",
            "Evaluating model on 250 random 20 way one-shot learning tasks ... \n",
            "Got an average of 72.0% 20 way one-shot learning accuracy \n",
            "\n",
            "\n",
            " ------------- \n",
            "\n",
            "Time for 1000 iterations: 3.79067626396815 mins\n",
            "Train Loss: 0.20379996299743652\n",
            "Evaluating model on 250 random 20 way one-shot learning tasks ... \n",
            "Got an average of 72.8% 20 way one-shot learning accuracy \n",
            "\n",
            "Current best: 72.8, previous best: 72.4\n",
            "\n",
            " ------------- \n",
            "\n",
            "Time for 1250 iterations: 4.755262172222137 mins\n",
            "Train Loss: 0.24156279861927032\n",
            "Evaluating model on 250 random 20 way one-shot learning tasks ... \n",
            "Got an average of 72.4% 20 way one-shot learning accuracy \n",
            "\n",
            "\n",
            " ------------- \n",
            "\n",
            "Time for 1500 iterations: 5.716436942418416 mins\n",
            "Train Loss: 0.19980628788471222\n",
            "Evaluating model on 250 random 20 way one-shot learning tasks ... \n",
            "Got an average of 76.8% 20 way one-shot learning accuracy \n",
            "\n",
            "Current best: 76.8, previous best: 72.8\n",
            "\n",
            " ------------- \n",
            "\n",
            "Time for 1750 iterations: 6.681770543257396 mins\n",
            "Train Loss: 0.2227351814508438\n",
            "Evaluating model on 250 random 20 way one-shot learning tasks ... \n",
            "Got an average of 77.6% 20 way one-shot learning accuracy \n",
            "\n",
            "Current best: 77.6, previous best: 76.8\n",
            "\n",
            " ------------- \n",
            "\n",
            "Time for 2000 iterations: 7.648884642124176 mins\n",
            "Train Loss: 0.3352326452732086\n",
            "Evaluating model on 250 random 20 way one-shot learning tasks ... \n",
            "Got an average of 76.0% 20 way one-shot learning accuracy \n",
            "\n",
            "\n",
            " ------------- \n",
            "\n",
            "Time for 2250 iterations: 8.61139219601949 mins\n",
            "Train Loss: 0.443972110748291\n",
            "Evaluating model on 250 random 20 way one-shot learning tasks ... \n",
            "Got an average of 75.2% 20 way one-shot learning accuracy \n",
            "\n",
            "\n",
            " ------------- \n",
            "\n",
            "Time for 2500 iterations: 9.572545723120372 mins\n",
            "Train Loss: 0.18862344324588776\n",
            "Evaluating model on 250 random 20 way one-shot learning tasks ... \n",
            "Got an average of 74.0% 20 way one-shot learning accuracy \n",
            "\n",
            "\n",
            " ------------- \n",
            "\n",
            "Time for 2750 iterations: 10.533954167366028 mins\n",
            "Train Loss: 0.17277882993221283\n",
            "Evaluating model on 250 random 20 way one-shot learning tasks ... \n",
            "Got an average of 74.0% 20 way one-shot learning accuracy \n",
            "\n",
            "\n",
            " ------------- \n",
            "\n",
            "Time for 3000 iterations: 11.49553169409434 mins\n",
            "Train Loss: 0.20227116346359253\n",
            "Evaluating model on 250 random 20 way one-shot learning tasks ... \n",
            "Got an average of 73.2% 20 way one-shot learning accuracy \n",
            "\n",
            "\n",
            " ------------- \n",
            "\n",
            "Time for 3250 iterations: 12.45713076988856 mins\n",
            "Train Loss: 0.23829235136508942\n",
            "Evaluating model on 250 random 20 way one-shot learning tasks ... \n",
            "Got an average of 76.4% 20 way one-shot learning accuracy \n",
            "\n",
            "\n",
            " ------------- \n",
            "\n",
            "Time for 3500 iterations: 13.420853054523468 mins\n",
            "Train Loss: 0.19368888437747955\n",
            "Evaluating model on 250 random 20 way one-shot learning tasks ... \n",
            "Got an average of 77.2% 20 way one-shot learning accuracy \n",
            "\n",
            "\n",
            " ------------- \n",
            "\n",
            "Time for 3750 iterations: 14.383986608187358 mins\n",
            "Train Loss: 0.22421154379844666\n",
            "Evaluating model on 250 random 20 way one-shot learning tasks ... \n",
            "Got an average of 72.4% 20 way one-shot learning accuracy \n",
            "\n",
            "\n",
            " ------------- \n",
            "\n",
            "Time for 4000 iterations: 15.34816479285558 mins\n",
            "Train Loss: 0.1938711255788803\n",
            "Evaluating model on 250 random 20 way one-shot learning tasks ... \n",
            "Got an average of 79.6% 20 way one-shot learning accuracy \n",
            "\n",
            "Current best: 79.6, previous best: 77.6\n",
            "\n",
            " ------------- \n",
            "\n",
            "Time for 4250 iterations: 16.315345974763236 mins\n",
            "Train Loss: 0.2538594901561737\n",
            "Evaluating model on 250 random 20 way one-shot learning tasks ... \n",
            "Got an average of 78.0% 20 way one-shot learning accuracy \n",
            "\n",
            "\n",
            " ------------- \n",
            "\n",
            "Time for 4500 iterations: 17.279712788263957 mins\n",
            "Train Loss: 0.23825928568840027\n",
            "Evaluating model on 250 random 20 way one-shot learning tasks ... \n",
            "Got an average of 79.6% 20 way one-shot learning accuracy \n",
            "\n",
            "Current best: 79.6, previous best: 79.6\n",
            "\n",
            " ------------- \n",
            "\n",
            "Time for 4750 iterations: 18.249033812681834 mins\n",
            "Train Loss: 0.24133026599884033\n",
            "Evaluating model on 250 random 20 way one-shot learning tasks ... \n",
            "Got an average of 76.0% 20 way one-shot learning accuracy \n",
            "\n",
            "\n",
            " ------------- \n",
            "\n",
            "Time for 5000 iterations: 19.213607756296792 mins\n",
            "Train Loss: 0.2204127162694931\n",
            "Evaluating model on 250 random 20 way one-shot learning tasks ... \n",
            "Got an average of 76.4% 20 way one-shot learning accuracy \n",
            "\n",
            "\n",
            " ------------- \n",
            "\n",
            "Time for 5250 iterations: 20.180035297075907 mins\n",
            "Train Loss: 0.21067842841148376\n",
            "Evaluating model on 250 random 20 way one-shot learning tasks ... \n",
            "Got an average of 76.0% 20 way one-shot learning accuracy \n",
            "\n",
            "\n",
            " ------------- \n",
            "\n",
            "Time for 5500 iterations: 21.145082414150238 mins\n",
            "Train Loss: 0.1871769279241562\n",
            "Evaluating model on 250 random 20 way one-shot learning tasks ... \n",
            "Got an average of 79.6% 20 way one-shot learning accuracy \n",
            "\n",
            "Current best: 79.6, previous best: 79.6\n",
            "\n",
            " ------------- \n",
            "\n",
            "Time for 5750 iterations: 22.114784653981527 mins\n",
            "Train Loss: 0.3611903488636017\n",
            "Evaluating model on 250 random 20 way one-shot learning tasks ... \n",
            "Got an average of 80.4% 20 way one-shot learning accuracy \n",
            "\n",
            "Current best: 80.4, previous best: 79.6\n",
            "\n",
            " ------------- \n",
            "\n",
            "Time for 6000 iterations: 23.086617386341096 mins\n",
            "Train Loss: 0.16575825214385986\n",
            "Evaluating model on 250 random 20 way one-shot learning tasks ... \n",
            "Got an average of 76.0% 20 way one-shot learning accuracy \n",
            "\n",
            "\n",
            " ------------- \n",
            "\n",
            "Time for 6250 iterations: 24.05137725273768 mins\n",
            "Train Loss: 0.14328518509864807\n",
            "Evaluating model on 250 random 20 way one-shot learning tasks ... \n",
            "Got an average of 79.2% 20 way one-shot learning accuracy \n",
            "\n",
            "\n",
            " ------------- \n",
            "\n",
            "Time for 6500 iterations: 25.01512006123861 mins\n",
            "Train Loss: 0.2621128261089325\n",
            "Evaluating model on 250 random 20 way one-shot learning tasks ... \n",
            "Got an average of 76.4% 20 way one-shot learning accuracy \n",
            "\n",
            "\n",
            " ------------- \n",
            "\n",
            "Time for 6750 iterations: 25.979798980553944 mins\n",
            "Train Loss: 0.35911422967910767\n",
            "Evaluating model on 250 random 20 way one-shot learning tasks ... \n",
            "Got an average of 76.8% 20 way one-shot learning accuracy \n",
            "\n",
            "\n",
            " ------------- \n",
            "\n",
            "Time for 7000 iterations: 26.945338428020477 mins\n",
            "Train Loss: 0.1873048096895218\n",
            "Evaluating model on 250 random 20 way one-shot learning tasks ... \n",
            "Got an average of 81.2% 20 way one-shot learning accuracy \n",
            "\n",
            "Current best: 81.2, previous best: 80.4\n",
            "\n",
            " ------------- \n",
            "\n",
            "Time for 7250 iterations: 27.91685868501663 mins\n",
            "Train Loss: 0.1455666720867157\n",
            "Evaluating model on 250 random 20 way one-shot learning tasks ... \n",
            "Got an average of 81.2% 20 way one-shot learning accuracy \n",
            "\n",
            "Current best: 81.2, previous best: 81.2\n",
            "\n",
            " ------------- \n",
            "\n",
            "Time for 7500 iterations: 28.889001055558523 mins\n",
            "Train Loss: 0.17340926826000214\n",
            "Evaluating model on 250 random 20 way one-shot learning tasks ... \n",
            "Got an average of 78.4% 20 way one-shot learning accuracy \n",
            "\n",
            "\n",
            " ------------- \n",
            "\n",
            "Time for 7750 iterations: 29.854830447832743 mins\n",
            "Train Loss: 0.22920511662960052\n",
            "Evaluating model on 250 random 20 way one-shot learning tasks ... \n",
            "Got an average of 73.6% 20 way one-shot learning accuracy \n",
            "\n",
            "\n",
            " ------------- \n",
            "\n",
            "Time for 8000 iterations: 30.82088745435079 mins\n",
            "Train Loss: 0.1454114317893982\n",
            "Evaluating model on 250 random 20 way one-shot learning tasks ... \n",
            "Got an average of 78.8% 20 way one-shot learning accuracy \n",
            "\n",
            "\n",
            " ------------- \n",
            "\n",
            "Time for 8250 iterations: 31.7869065562884 mins\n",
            "Train Loss: 0.25980696082115173\n",
            "Evaluating model on 250 random 20 way one-shot learning tasks ... \n",
            "Got an average of 81.6% 20 way one-shot learning accuracy \n",
            "\n",
            "Current best: 81.6, previous best: 81.2\n",
            "\n",
            " ------------- \n",
            "\n",
            "Time for 8500 iterations: 32.758158429463705 mins\n",
            "Train Loss: 0.2063462883234024\n",
            "Evaluating model on 250 random 20 way one-shot learning tasks ... \n",
            "Got an average of 78.4% 20 way one-shot learning accuracy \n",
            "\n",
            "\n",
            " ------------- \n",
            "\n",
            "Time for 8750 iterations: 33.725688795248665 mins\n",
            "Train Loss: 0.14174674451351166\n",
            "Evaluating model on 250 random 20 way one-shot learning tasks ... \n",
            "Got an average of 82.8% 20 way one-shot learning accuracy \n",
            "\n",
            "Current best: 82.8, previous best: 81.6\n",
            "\n",
            " ------------- \n",
            "\n",
            "Time for 9000 iterations: 34.697116728623705 mins\n",
            "Train Loss: 0.2578013837337494\n",
            "Evaluating model on 250 random 20 way one-shot learning tasks ... \n",
            "Got an average of 83.6% 20 way one-shot learning accuracy \n",
            "\n",
            "Current best: 83.6, previous best: 82.8\n",
            "\n",
            " ------------- \n",
            "\n",
            "Time for 9250 iterations: 35.66918932199478 mins\n",
            "Train Loss: 0.36212196946144104\n",
            "Evaluating model on 250 random 20 way one-shot learning tasks ... \n",
            "Got an average of 80.4% 20 way one-shot learning accuracy \n",
            "\n",
            "\n",
            " ------------- \n",
            "\n",
            "Time for 9500 iterations: 36.63813100655874 mins\n",
            "Train Loss: 0.181742325425148\n",
            "Evaluating model on 250 random 20 way one-shot learning tasks ... \n",
            "Got an average of 77.2% 20 way one-shot learning accuracy \n",
            "\n",
            "\n",
            " ------------- \n",
            "\n",
            "Time for 9750 iterations: 37.607021828492485 mins\n",
            "Train Loss: 0.202924907207489\n",
            "Evaluating model on 250 random 20 way one-shot learning tasks ... \n",
            "Got an average of 78.4% 20 way one-shot learning accuracy \n",
            "\n",
            "\n",
            " ------------- \n",
            "\n",
            "Time for 10000 iterations: 38.57847065528234 mins\n",
            "Train Loss: 0.14835163950920105\n",
            "Evaluating model on 250 random 20 way one-shot learning tasks ... \n",
            "Got an average of 80.4% 20 way one-shot learning accuracy \n",
            "\n",
            "-------------------------------------\n",
            "CPU times: user 17min 44s, sys: 10min 33s, total: 28min 18s\n",
            "Wall time: 38min 44s\n"
          ],
          "name": "stdout"
        }
      ]
    },
    {
      "metadata": {
        "id": "5Ng2rtddJ__x",
        "colab_type": "code",
        "colab": {}
      },
      "cell_type": "code",
      "source": [
        "model.load_weights(os.path.join(model_path, \"weights.82.8.h5\"))"
      ],
      "execution_count": 0,
      "outputs": []
    },
    {
      "metadata": {
        "id": "3R1eypDKKLHv",
        "colab_type": "code",
        "colab": {}
      },
      "cell_type": "code",
      "source": [
        "def nearest_neighbour_correct(pairs,targets):\n",
        "    \"\"\"returns 1 if nearest neighbour gets the correct answer for a one-shot task\n",
        "        given by (pairs, targets)\"\"\"\n",
        "    L2_distances = np.zeros_like(targets)\n",
        "    for i in range(len(targets)):\n",
        "        L2_distances[i] = np.sum(np.sqrt(pairs[0][i]**2 - pairs[1][i]**2))\n",
        "    if np.argmin(L2_distances) == np.argmax(targets):\n",
        "        return 1\n",
        "    return 0\n",
        "\n",
        "\n",
        "def test_nn_accuracy(N_ways,n_trials):\n",
        "    \"\"\"Returns accuracy of NN approach \"\"\"\n",
        "    print(\"Evaluating nearest neighbour on {} unique {} way one-shot learning tasks ...\".format(n_trials,N_ways))\n",
        "\n",
        "    n_right = 0\n",
        "    \n",
        "    for i in range(n_trials):\n",
        "        pairs,targets = make_oneshot_task(N_ways,\"val\")\n",
        "        correct = nearest_neighbour_correct(pairs,targets)\n",
        "        n_right += correct\n",
        "    return 100.0 * n_right / n_trials"
      ],
      "execution_count": 0,
      "outputs": []
    },
    {
      "metadata": {
        "id": "8ZXufXY7KROk",
        "colab_type": "code",
        "colab": {}
      },
      "cell_type": "code",
      "source": [
        "ways = np.arange(1,20,2)\n",
        "resume =  False\n",
        "trials = 50"
      ],
      "execution_count": 0,
      "outputs": []
    },
    {
      "metadata": {
        "id": "FY_H_IE7KdvX",
        "colab_type": "code",
        "outputId": "6455e703-012a-4142-cc06-69fa501dbae8",
        "colab": {
          "base_uri": "https://localhost:8080/",
          "height": 1522
        }
      },
      "cell_type": "code",
      "source": [
        "val_accs, train_accs,nn_accs = [], [], []\n",
        "for N in ways:    \n",
        "    val_accs.append(test_oneshot(model, N, trials, \"val\", verbose=True))\n",
        "    train_accs.append(test_oneshot(model, N, trials, \"train\", verbose=True))\n",
        "    nn_acc = test_nn_accuracy(N, trials)\n",
        "    nn_accs.append(nn_acc)\n",
        "    print (\"NN Accuracy = \", nn_acc)\n",
        "    print(\"-----------------------------------------------------------------------------------\")"
      ],
      "execution_count": 31,
      "outputs": [
        {
          "output_type": "stream",
          "text": [
            "Evaluating model on 50 random 1 way one-shot learning tasks ... \n",
            "Got an average of 100.0% 1 way one-shot learning accuracy \n",
            "\n",
            "Evaluating model on 50 random 1 way one-shot learning tasks ... \n",
            "Got an average of 100.0% 1 way one-shot learning accuracy \n",
            "\n",
            "Evaluating nearest neighbour on 50 unique 1 way one-shot learning tasks ...\n",
            "NN Accuracy =  100.0\n",
            "-----------------------------------------------------------------------------------\n",
            "Evaluating model on 50 random 3 way one-shot learning tasks ... \n",
            "Got an average of 96.0% 3 way one-shot learning accuracy \n",
            "\n",
            "Evaluating model on 50 random 3 way one-shot learning tasks ... \n",
            "Got an average of 100.0% 3 way one-shot learning accuracy \n",
            "\n",
            "Evaluating nearest neighbour on 50 unique 3 way one-shot learning tasks ...\n",
            "NN Accuracy =  54.0\n",
            "-----------------------------------------------------------------------------------\n",
            "Evaluating model on 50 random 5 way one-shot learning tasks ... \n",
            "Got an average of 94.0% 5 way one-shot learning accuracy \n",
            "\n",
            "Evaluating model on 50 random 5 way one-shot learning tasks ... \n",
            "Got an average of 100.0% 5 way one-shot learning accuracy \n",
            "\n",
            "Evaluating nearest neighbour on 50 unique 5 way one-shot learning tasks ...\n",
            "NN Accuracy =  34.0\n",
            "-----------------------------------------------------------------------------------\n",
            "Evaluating model on 50 random 7 way one-shot learning tasks ... \n",
            "Got an average of 90.0% 7 way one-shot learning accuracy \n",
            "\n",
            "Evaluating model on 50 random 7 way one-shot learning tasks ... \n",
            "Got an average of 98.0% 7 way one-shot learning accuracy \n",
            "\n",
            "Evaluating nearest neighbour on 50 unique 7 way one-shot learning tasks ...\n",
            "NN Accuracy =  38.0\n",
            "-----------------------------------------------------------------------------------\n",
            "Evaluating model on 50 random 9 way one-shot learning tasks ... \n",
            "Got an average of 84.0% 9 way one-shot learning accuracy \n",
            "\n",
            "Evaluating model on 50 random 9 way one-shot learning tasks ... \n",
            "Got an average of 94.0% 9 way one-shot learning accuracy \n",
            "\n",
            "Evaluating nearest neighbour on 50 unique 9 way one-shot learning tasks ...\n",
            "NN Accuracy =  40.0\n",
            "-----------------------------------------------------------------------------------\n",
            "Evaluating model on 50 random 11 way one-shot learning tasks ... \n",
            "Got an average of 90.0% 11 way one-shot learning accuracy \n",
            "\n",
            "Evaluating model on 50 random 11 way one-shot learning tasks ... \n",
            "Got an average of 98.0% 11 way one-shot learning accuracy \n",
            "\n",
            "Evaluating nearest neighbour on 50 unique 11 way one-shot learning tasks ...\n",
            "NN Accuracy =  32.0\n",
            "-----------------------------------------------------------------------------------\n",
            "Evaluating model on 50 random 13 way one-shot learning tasks ... \n",
            "Got an average of 80.0% 13 way one-shot learning accuracy \n",
            "\n",
            "Evaluating model on 50 random 13 way one-shot learning tasks ... \n",
            "Got an average of 92.0% 13 way one-shot learning accuracy \n",
            "\n",
            "Evaluating nearest neighbour on 50 unique 13 way one-shot learning tasks ...\n",
            "NN Accuracy =  28.0\n",
            "-----------------------------------------------------------------------------------\n",
            "Evaluating model on 50 random 15 way one-shot learning tasks ... \n",
            "Got an average of 78.0% 15 way one-shot learning accuracy \n",
            "\n",
            "Evaluating model on 50 random 15 way one-shot learning tasks ... \n",
            "Got an average of 90.0% 15 way one-shot learning accuracy \n",
            "\n",
            "Evaluating nearest neighbour on 50 unique 15 way one-shot learning tasks ...\n",
            "NN Accuracy =  36.0\n",
            "-----------------------------------------------------------------------------------\n",
            "Evaluating model on 50 random 17 way one-shot learning tasks ... \n",
            "Got an average of 82.0% 17 way one-shot learning accuracy \n",
            "\n",
            "Evaluating model on 50 random 17 way one-shot learning tasks ... \n",
            "Got an average of 98.0% 17 way one-shot learning accuracy \n",
            "\n",
            "Evaluating nearest neighbour on 50 unique 17 way one-shot learning tasks ...\n",
            "NN Accuracy =  36.0\n",
            "-----------------------------------------------------------------------------------\n",
            "Evaluating model on 50 random 19 way one-shot learning tasks ... \n",
            "Got an average of 80.0% 19 way one-shot learning accuracy \n",
            "\n",
            "Evaluating model on 50 random 19 way one-shot learning tasks ... \n",
            "Got an average of 92.0% 19 way one-shot learning accuracy \n",
            "\n",
            "Evaluating nearest neighbour on 50 unique 19 way one-shot learning tasks ...\n",
            "NN Accuracy =  18.0\n",
            "-----------------------------------------------------------------------------------\n"
          ],
          "name": "stdout"
        }
      ]
    },
    {
      "metadata": {
        "id": "yhdd6xcsLL0v",
        "colab_type": "text"
      },
      "cell_type": "markdown",
      "source": [
        "### Save the accuracies on disk, then loaded"
      ]
    },
    {
      "metadata": {
        "id": "5WO6AHvKK1VG",
        "colab_type": "code",
        "colab": {}
      },
      "cell_type": "code",
      "source": [
        "with open(os.path.join(save_path,\"accuracies.pickle\"), \"wb\") as f:\n",
        "    pickle.dump((val_accs,train_accs,nn_accs),f)\n",
        "    \n",
        "    \n",
        "with open(os.path.join(save_path, \"accuracies.pickle\"), \"rb\") as f:\n",
        "    (val_accs, train_accs, nn_accs) = pickle.load(f)"
      ],
      "execution_count": 0,
      "outputs": []
    },
    {
      "metadata": {
        "id": "FwpcjacrLYvT",
        "colab_type": "code",
        "colab": {}
      },
      "cell_type": "code",
      "source": [
        "def concat_images(X):\n",
        "    \"\"\"Concatenates a bunch of images into a big matrix for plotting purposes.\"\"\"\n",
        "    nc, h , w, _ = X.shape\n",
        "    X = X.reshape(nc, h, w)\n",
        "    n = np.ceil(np.sqrt(nc)).astype(\"int8\")\n",
        "    img = np.zeros((n*w,n*h))\n",
        "    x = 0\n",
        "    y = 0\n",
        "    for example in range(nc):\n",
        "        img[x*w:(x+1)*w,y*h:(y+1)*h] = X[example]\n",
        "        y += 1\n",
        "        if y >= n:\n",
        "            y = 0\n",
        "            x += 1\n",
        "    return img\n",
        "\n",
        "\n",
        "def plot_oneshot_task(pairs):\n",
        "    fig,(ax1,ax2) = plt.subplots(nrows=1, ncols=2)\n",
        "    ax1.matshow(pairs[0][0].reshape(105,105), cmap='gray')\n",
        "    img = concat_images(pairs[1])\n",
        "    ax1.get_yaxis().set_visible(False)\n",
        "    ax1.get_xaxis().set_visible(False)\n",
        "    ax2.matshow(img,cmap='gray')\n",
        "    plt.xticks([])\n",
        "    plt.yticks([])\n",
        "    plt.show()"
      ],
      "execution_count": 0,
      "outputs": []
    },
    {
      "metadata": {
        "id": "wVANO82jLdve",
        "colab_type": "code",
        "outputId": "be24adf3-8428-443b-d51a-376f552ab391",
        "colab": {
          "base_uri": "https://localhost:8080/",
          "height": 182
        }
      },
      "cell_type": "code",
      "source": [
        "# Example of concat image visualization\n",
        "pairs, targets = make_oneshot_task(16, \"train\", \"Sanskrit\")\n",
        "plot_oneshot_task(pairs)"
      ],
      "execution_count": 34,
      "outputs": [
        {
          "output_type": "display_data",
          "data": {
            "image/png": "[encoded data removed]",
            "text/plain": [
              "<Figure size 432x288 with 2 Axes>"
            ]
          },
          "metadata": {
            "tags": []
          }
        }
      ]
    },
    {
      "metadata": {
        "id": "gxEXZCZKLhxq",
        "colab_type": "code",
        "outputId": "cd53161c-4471-4e50-df42-ca307f87d6f9",
        "colab": {
          "base_uri": "https://localhost:8080/",
          "height": 182
        }
      },
      "cell_type": "code",
      "source": [
        "# Example of concat image visualization\n",
        "pairs, targets = make_oneshot_task(16, \"val\", \"Oriya\")\n",
        "plot_oneshot_task(pairs)"
      ],
      "execution_count": 36,
      "outputs": [
        {
          "output_type": "display_data",
          "data": {
            "image/png": "[encoded data removed]",
            "text/plain": [
              "<Figure size 432x288 with 2 Axes>"
            ]
          },
          "metadata": {
            "tags": []
          }
        }
      ]
    },
    {
      "metadata": {
        "id": "19zb90DDNDLL",
        "colab_type": "text"
      },
      "cell_type": "markdown",
      "source": [
        "## Result"
      ]
    },
    {
      "metadata": {
        "id": "CwfN5zytM9G7",
        "colab_type": "code",
        "outputId": "57a52970-0ef8-4622-dfe4-136036b141a0",
        "colab": {
          "base_uri": "https://localhost:8080/",
          "height": 460
        }
      },
      "cell_type": "code",
      "source": [
        "\n",
        "fig,ax = plt.subplots(1)\n",
        "ax.plot(ways, val_accs, \"m\", label=\"Siamese(val set)\")\n",
        "ax.plot(ways, train_accs, \"y\", label=\"Siamese(train set)\")\n",
        "plt.plot(ways, nn_accs, label=\"Nearest neighbour\")\n",
        "\n",
        "ax.plot(ways, 100.0/ways, \"g\", label=\"Random guessing\")\n",
        "plt.xlabel(\"Number of possible classes in one-shot tasks\")\n",
        "plt.ylabel(\"% Accuracy\")\n",
        "plt.title(\"Omiglot One-Shot Learning Performance of a Siamese Network\")\n",
        "box = ax.get_position()\n",
        "ax.set_position([box.x0, box.y0, box.width * 0.8, box.height])\n",
        "ax.legend(loc='center left', bbox_to_anchor=(1, 0.5))\n",
        "\n",
        "inputs,targets = make_oneshot_task(20, \"val\", 'Oriya')\n",
        "plt.show()\n",
        "\n",
        "plot_oneshot_task(inputs)"
      ],
      "execution_count": 37,
      "outputs": [
        {
          "output_type": "display_data",
          "data": {
            "image/png": "[encoded data removed]",
            "text/plain": [
              "<Figure size 432x288 with 1 Axes>"
            ]
          },
          "metadata": {
            "tags": []
          }
        },
        {
          "output_type": "display_data",
          "data": {
            "image/png": "[encoded data removed]",
            "text/plain": [
              "<Figure size 432x288 with 2 Axes>"
            ]
          },
          "metadata": {
            "tags": []
          }
        }
      ]
    },
    {
      "metadata": {
        "id": "Z6kjZuEbNGK7",
        "colab_type": "code",
        "colab": {}
      },
      "cell_type": "code",
      "source": [
        "# !python -m zipfile -c weights.zip weights/\n",
        "# !python -m zipfile -c save_data.zip save_data/"
      ],
      "execution_count": 0,
      "outputs": []
    },
    {
      "metadata": {
        "id": "5upzfnB9Oys2",
        "colab_type": "code",
        "colab": {}
      },
      "cell_type": "code",
      "source": [
        "# !cp weights.zip drive/My\\ Drive/\n",
        "# !cp save_data.zip drive/My\\ Drive/"
      ],
      "execution_count": 0,
      "outputs": []
    },
    {
      "metadata": {
        "id": "ihTlpI1hPmpr",
        "colab_type": "code",
        "colab": {}
      },
      "cell_type": "code",
      "source": [
        ""
      ],
      "execution_count": 0,
      "outputs": []
    }
  ]
}