{
  "nbformat": 4,
  "nbformat_minor": 0,
  "metadata": {
    "colab": {
      "name": "Siamese_Networks on MNIST.ipynb",
      "version": "0.3.2",
      "provenance": []
    },
    "kernelspec": {
      "name": "python3",
      "display_name": "Python 3"
    },
    "accelerator": "GPU"
  },
  "cells": [
    {
      "metadata": {
        "id": "2FxMFUl3Gcnm",
        "colab_type": "code",
        "colab": {}
      },
      "cell_type": "code",
      "source": [
        "import numpy as np\n",
        "import random\n",
        "\n",
        "from keras.datasets import mnist\n",
        "from keras.models import Model\n",
        "from keras.layers import Input, Flatten, Dense, Dropout, Lambda\n",
        "from keras.optimizers import RMSprop\n",
        "from keras.callbacks import EarlyStopping\n",
        "from keras import backend as K"
      ],
      "execution_count": 0,
      "outputs": []
    },
    {
      "metadata": {
        "id": "CEjGKUbLG31r",
        "colab_type": "code",
        "colab": {}
      },
      "cell_type": "code",
      "source": [
        "num_classes = 10\n",
        "epochs = 20"
      ],
      "execution_count": 0,
      "outputs": []
    },
    {
      "metadata": {
        "id": "bs1Gr03JG6bl",
        "colab_type": "code",
        "colab": {}
      },
      "cell_type": "code",
      "source": [
        "def euclidean_distance(vectors):\n",
        "    x, y = vectors\n",
        "    sum_square = K.sum(K.square(x - y), axis=1, keepdims=True)\n",
        "    return K.sqrt(K.maximum(sum_square, K.epsilon()))"
      ],
      "execution_count": 0,
      "outputs": []
    },
    {
      "metadata": {
        "id": "F3gLtNSJHgYJ",
        "colab_type": "code",
        "colab": {}
      },
      "cell_type": "code",
      "source": [
        "def eucl_dist_output_shape(shapes):\n",
        "    shape1, shape2 = shapes\n",
        "    return (shape1[0], 1)"
      ],
      "execution_count": 0,
      "outputs": []
    },
    {
      "metadata": {
        "id": "7EVC0HefHi07",
        "colab_type": "code",
        "colab": {}
      },
      "cell_type": "code",
      "source": [
        "\n",
        "def contrastive_loss(y_true, y_pred):\n",
        "    margin = 1\n",
        "    sqaure_pred = K.square(y_pred)\n",
        "    margin_square = K.square(K.maximum(margin - y_pred, 0))\n",
        "    return K.mean(y_true * sqaure_pred + (1 - y_true) * margin_square)"
      ],
      "execution_count": 0,
      "outputs": []
    },
    {
      "metadata": {
        "id": "Y0CtLeaJHp15",
        "colab_type": "code",
        "colab": {}
      },
      "cell_type": "code",
      "source": [
        "def create_pairs(x, digit_indices):\n",
        "    '''\n",
        "    Positive and negative pair creation.\n",
        "    Alternates between positive and negative pairs.\n",
        "    '''\n",
        "    \n",
        "    pairs = []\n",
        "    labels = []\n",
        "    n = min([len(digit_indices[d]) for d in range(num_classes)]) - 1\n",
        "    for d in range(num_classes):\n",
        "        for i in range(n):\n",
        "            z1, z2 = digit_indices[d][i], digit_indices[d][i + 1]\n",
        "            pairs += [[x[z1], x[z2]]]\n",
        "            inc = random.randrange(1, num_classes)\n",
        "            dn = (d + inc) % num_classes\n",
        "            z1, z2 = digit_indices[d][i], digit_indices[dn][i]\n",
        "            pairs += [[x[z1], x[z2]]]\n",
        "            labels += [1, 0]\n",
        "    return np.array(pairs), np.array(labels)"
      ],
      "execution_count": 0,
      "outputs": []
    },
    {
      "metadata": {
        "id": "DSyY1tsUInMe",
        "colab_type": "code",
        "colab": {}
      },
      "cell_type": "code",
      "source": [
        "def compute_accuracy(y_true, y_pred):\n",
        "    '''Compute classification accuracy with a fixed threshold on distances.\n",
        "    '''\n",
        "    pred = y_pred.ravel() < 0.5\n",
        "    return np.mean(pred == y_true)\n",
        "\n",
        "\n",
        "def accuracy(y_true, y_pred):\n",
        "    '''Compute classification accuracy with a fixed threshold on distances.\n",
        "    '''\n",
        "    return K.mean(K.equal(y_true, K.cast(y_pred < 0.5, y_true.dtype)))"
      ],
      "execution_count": 0,
      "outputs": []
    },
    {
      "metadata": {
        "id": "_KvGezhkI3yd",
        "colab_type": "code",
        "colab": {}
      },
      "cell_type": "code",
      "source": [
        "# the data, split between train and test sets\n",
        "(x_train, y_train), (x_test, y_test) = mnist.load_data()\n",
        "x_train = x_train.astype('float32')\n",
        "x_test = x_test.astype('float32')\n",
        "x_train /= 255\n",
        "x_test /= 255\n",
        "input_shape = x_train.shape[1:]"
      ],
      "execution_count": 0,
      "outputs": []
    },
    {
      "metadata": {
        "id": "PrsXIGqUI9I_",
        "colab_type": "code",
        "colab": {}
      },
      "cell_type": "code",
      "source": [
        "# create training+test positive and negative pairs\n",
        "digit_indices = [np.where(y_train == i)[0] for i in range(num_classes)]\n",
        "train_pairs, train_y = create_pairs(x_train, digit_indices)\n",
        "\n",
        "digit_indices = [np.where(y_test == i)[0] for i in range(num_classes)]\n",
        "test_pairs, test_y = create_pairs(x_test, digit_indices)"
      ],
      "execution_count": 0,
      "outputs": []
    },
    {
      "metadata": {
        "id": "2wEZvCPVJgRA",
        "colab_type": "code",
        "colab": {
          "base_uri": "https://localhost:8080/",
          "height": 33
        },
        "outputId": "f9fc9df3-96a8-43c0-f54d-6d5f888d2fc9"
      },
      "cell_type": "code",
      "source": [
        "train_pairs.shape, test_pairs.shape"
      ],
      "execution_count": 10,
      "outputs": [
        {
          "output_type": "execute_result",
          "data": {
            "text/plain": [
              "((108400, 2, 28, 28), (17820, 2, 28, 28))"
            ]
          },
          "metadata": {
            "tags": []
          },
          "execution_count": 10
        }
      ]
    },
    {
      "metadata": {
        "id": "Bw-93A2oLAt3",
        "colab_type": "code",
        "colab": {}
      },
      "cell_type": "code",
      "source": [
        "def create_base_network(input_shape):\n",
        "    '''Base network to be shared (eq. to feature extraction).\n",
        "    '''\n",
        "    input = Input(shape=input_shape)\n",
        "    x = Flatten()(input)\n",
        "    x = Dense(128, activation='relu')(x)\n",
        "    x = Dropout(0.1)(x)\n",
        "    x = Dense(128, activation='relu')(x)\n",
        "    x = Dropout(0.1)(x)\n",
        "    x = Dense(128, activation='relu')(x)\n",
        "    return Model(input, x)"
      ],
      "execution_count": 0,
      "outputs": []
    },
    {
      "metadata": {
        "id": "P5A8qcq4OiBg",
        "colab_type": "code",
        "colab": {
          "base_uri": "https://localhost:8080/",
          "height": 301
        },
        "outputId": "88b4762b-ee85-4058-f7ce-99d538406440"
      },
      "cell_type": "code",
      "source": [
        "base_network = create_base_network(input_shape)\n",
        "\n",
        "input_a = Input(shape=input_shape)\n",
        "input_b = Input(shape=input_shape)\n",
        "\n",
        "# because we re-use the same instance `base_network`,\n",
        "# the weights of the network\n",
        "# will be shared across the two branches\n",
        "processed_a = base_network(input_a)\n",
        "processed_b = base_network(input_b)\n",
        "\n",
        "distance = Lambda(euclidean_distance,\n",
        "                  output_shape=eucl_dist_output_shape)([processed_a, processed_b])\n",
        "\n",
        "model = Model([input_a, input_b], distance)\n",
        "model.summary()"
      ],
      "execution_count": 14,
      "outputs": [
        {
          "output_type": "stream",
          "text": [
            "__________________________________________________________________________________________________\n",
            "Layer (type)                    Output Shape         Param #     Connected to                     \n",
            "==================================================================================================\n",
            "input_2 (InputLayer)            (None, 28, 28)       0                                            \n",
            "__________________________________________________________________________________________________\n",
            "input_3 (InputLayer)            (None, 28, 28)       0                                            \n",
            "__________________________________________________________________________________________________\n",
            "model_1 (Model)                 (None, 128)          133504      input_2[0][0]                    \n",
            "                                                                 input_3[0][0]                    \n",
            "__________________________________________________________________________________________________\n",
            "lambda_1 (Lambda)               (None, 1)            0           model_1[1][0]                    \n",
            "                                                                 model_1[2][0]                    \n",
            "==================================================================================================\n",
            "Total params: 133,504\n",
            "Trainable params: 133,504\n",
            "Non-trainable params: 0\n",
            "__________________________________________________________________________________________________\n"
          ],
          "name": "stdout"
        }
      ]
    },
    {
      "metadata": {
        "id": "l-dYGCRrPO3V",
        "colab_type": "code",
        "colab": {
          "base_uri": "https://localhost:8080/",
          "height": 401
        },
        "outputId": "8809cd44-0691-4ce6-a166-2fd5391b79b4"
      },
      "cell_type": "code",
      "source": [
        "model.compile(loss=contrastive_loss, optimizer='rmsprop', metrics=[accuracy])\n",
        "callback = EarlyStopping(monitor='val_loss', patience=2)\n",
        "\n",
        "try:\n",
        "    model.fit([train_pairs[:, 0], train_pairs[:, 1]], train_y, batch_size=128,\n",
        "          epochs=epochs, validation_data=([test_pairs[:, 0], test_pairs[:, 1]], test_y), callbacks=[callback])\n",
        "except(KeyboardInterrupt):\n",
        "    print('\\nStoped')"
      ],
      "execution_count": 19,
      "outputs": [
        {
          "output_type": "stream",
          "text": [
            "Train on 108400 samples, validate on 17820 samples\n",
            "Epoch 1/20\n",
            "108400/108400 [==============================] - 7s 61us/step - loss: 0.0948 - accuracy: 0.8878 - val_loss: 0.0441 - val_accuracy: 0.9553\n",
            "Epoch 2/20\n",
            "108400/108400 [==============================] - 6s 53us/step - loss: 0.0411 - accuracy: 0.9605 - val_loss: 0.0323 - val_accuracy: 0.9662\n",
            "Epoch 3/20\n",
            "108400/108400 [==============================] - 6s 53us/step - loss: 0.0292 - accuracy: 0.9716 - val_loss: 0.0272 - val_accuracy: 0.9719\n",
            "Epoch 4/20\n",
            "108400/108400 [==============================] - 6s 53us/step - loss: 0.0240 - accuracy: 0.9759 - val_loss: 0.0265 - val_accuracy: 0.9693\n",
            "Epoch 5/20\n",
            "108400/108400 [==============================] - 6s 54us/step - loss: 0.0205 - accuracy: 0.9797 - val_loss: 0.0252 - val_accuracy: 0.9715\n",
            "Epoch 6/20\n",
            "108400/108400 [==============================] - 6s 54us/step - loss: 0.0184 - accuracy: 0.9815 - val_loss: 0.0250 - val_accuracy: 0.9709\n",
            "Epoch 7/20\n",
            "108400/108400 [==============================] - 6s 54us/step - loss: 0.0165 - accuracy: 0.9831 - val_loss: 0.0233 - val_accuracy: 0.9720\n",
            "Epoch 8/20\n",
            "108400/108400 [==============================] - 6s 54us/step - loss: 0.0152 - accuracy: 0.9847 - val_loss: 0.0231 - val_accuracy: 0.9726\n",
            "Epoch 9/20\n",
            "108400/108400 [==============================] - 6s 54us/step - loss: 0.0144 - accuracy: 0.9852 - val_loss: 0.0228 - val_accuracy: 0.9719\n",
            "Epoch 10/20\n",
            "108400/108400 [==============================] - 6s 54us/step - loss: 0.0133 - accuracy: 0.9866 - val_loss: 0.0245 - val_accuracy: 0.9710\n",
            "Epoch 11/20\n",
            "108400/108400 [==============================] - 6s 52us/step - loss: 0.0125 - accuracy: 0.9873 - val_loss: 0.0235 - val_accuracy: 0.9729\n"
          ],
          "name": "stdout"
        }
      ]
    },
    {
      "metadata": {
        "id": "hvmaen3BQEEu",
        "colab_type": "code",
        "colab": {}
      },
      "cell_type": "code",
      "source": [
        "# compute final accuracy on training and test sets\n",
        "y_pred = model.predict([train_pairs[:, 0], train_pairs[:, 1]])\n",
        "train_acc = compute_accuracy(train_y, y_pred)\n",
        "y_pred = model.predict([test_pairs[:, 0], test_pairs[:, 1]])\n",
        "test_acc = compute_accuracy(test_y, y_pred)"
      ],
      "execution_count": 0,
      "outputs": []
    },
    {
      "metadata": {
        "id": "J_7wrGwfVTWT",
        "colab_type": "code",
        "colab": {
          "base_uri": "https://localhost:8080/",
          "height": 50
        },
        "outputId": "0efc859d-15d5-43e0-f9f6-2e0d0ea9568c"
      },
      "cell_type": "code",
      "source": [
        "print('* Accuracy on training set: %0.2f%%' % (100 * train_acc))\n",
        "print('* Accuracy on test set: %0.2f%%' % (100 * test_acc))"
      ],
      "execution_count": 24,
      "outputs": [
        {
          "output_type": "stream",
          "text": [
            "* Accuracy on training set: 99.32%\n",
            "* Accuracy on test set: 97.29%\n"
          ],
          "name": "stdout"
        }
      ]
    },
    {
      "metadata": {
        "id": "GmogjRTVVbsx",
        "colab_type": "code",
        "colab": {}
      },
      "cell_type": "code",
      "source": [
        ""
      ],
      "execution_count": 0,
      "outputs": []
    }
  ]
}